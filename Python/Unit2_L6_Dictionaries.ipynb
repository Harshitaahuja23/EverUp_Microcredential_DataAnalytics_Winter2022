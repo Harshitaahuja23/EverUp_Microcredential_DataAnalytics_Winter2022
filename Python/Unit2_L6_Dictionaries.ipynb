{
  "nbformat": 4,
  "nbformat_minor": 0,
  "metadata": {
    "colab": {
      "name": "Unit2_L6_Dictionaries.ipynb",
      "provenance": [],
      "authorship_tag": "ABX9TyMS6MktbRwDKQQ17al7EDNn",
      "include_colab_link": true
    },
    "kernelspec": {
      "name": "python3",
      "display_name": "Python 3"
    },
    "language_info": {
      "name": "python"
    }
  },
  "cells": [
    {
      "cell_type": "markdown",
      "metadata": {
        "id": "view-in-github",
        "colab_type": "text"
      },
      "source": [
        "<a href=\"https://colab.research.google.com/github/Harshitaahuja23/EverUp_Microcredential_DataAnalytics_Winter2022/blob/main/Python/Unit2_L6_Dictionaries.ipynb\" target=\"_parent\"><img src=\"https://colab.research.google.com/assets/colab-badge.svg\" alt=\"Open In Colab\"/></a>"
      ]
    },
    {
      "cell_type": "code",
      "execution_count": null,
      "metadata": {
        "id": "mp6ZrRpvyg_j"
      },
      "outputs": [],
      "source": [
        "full_name = {\"first_name\" : \"Harshita\", \"last_name\" : \"Ahuja\"}"
      ]
    },
    {
      "cell_type": "code",
      "source": [
        "print(full_name[\"first_name\"])\n",
        "print(full_name[\"last_name\"])"
      ],
      "metadata": {
        "colab": {
          "base_uri": "https://localhost:8080/"
        },
        "id": "Iy7_f1BJyh6t",
        "outputId": "be5c78a1-b5d7-4920-c28b-7899b688b567"
      },
      "execution_count": null,
      "outputs": [
        {
          "output_type": "stream",
          "name": "stdout",
          "text": [
            "Harshita\n",
            "Ahuja\n"
          ]
        }
      ]
    },
    {
      "cell_type": "code",
      "source": [
        "print(\"Hello, \" + full_name[\"first_name\"])"
      ],
      "metadata": {
        "colab": {
          "base_uri": "https://localhost:8080/"
        },
        "id": "rRvGGtsYyjve",
        "outputId": "c7a5aebe-f1bb-415a-920c-5bb6e4a08c85"
      },
      "execution_count": null,
      "outputs": [
        {
          "output_type": "stream",
          "name": "stdout",
          "text": [
            "Hello, Harshita\n"
          ]
        }
      ]
    },
    {
      "cell_type": "code",
      "source": [
        "favorite_places = {\n",
        "    \"New York\" : \"Brooklyn Bridge\", \n",
        "    \"San Francisco\" : \"The Golden Gate Bridge\"\n",
        "}"
      ],
      "metadata": {
        "id": "YoiVJ330ylBz"
      },
      "execution_count": null,
      "outputs": []
    },
    {
      "cell_type": "code",
      "source": [
        "print(favorite_places[\"New York\"])"
      ],
      "metadata": {
        "colab": {
          "base_uri": "https://localhost:8080/"
        },
        "id": "km5rs1k2ym2C",
        "outputId": "890617d8-e69b-4d78-ab14-fdf18584b43b"
      },
      "execution_count": null,
      "outputs": [
        {
          "output_type": "stream",
          "name": "stdout",
          "text": [
            "Brooklyn Bridge\n"
          ]
        }
      ]
    },
    {
      "cell_type": "code",
      "source": [
        "print(favorite_places[\"San Francisco\"])"
      ],
      "metadata": {
        "colab": {
          "base_uri": "https://localhost:8080/"
        },
        "id": "ZgNxNWn9yoKm",
        "outputId": "cef88cf1-8e15-4103-85a2-660f2edb9a2e"
      },
      "execution_count": null,
      "outputs": [
        {
          "output_type": "stream",
          "name": "stdout",
          "text": [
            "The Golden Gate Bridge\n"
          ]
        }
      ]
    },
    {
      "cell_type": "code",
      "source": [
        "#don't have to do nested dictionary"
      ],
      "metadata": {
        "id": "u7eQx1A-yptE"
      },
      "execution_count": null,
      "outputs": []
    },
    {
      "cell_type": "code",
      "source": [
        ""
      ],
      "metadata": {
        "id": "v5lsE9Pxy-Gt"
      },
      "execution_count": null,
      "outputs": []
    }
  ]
}