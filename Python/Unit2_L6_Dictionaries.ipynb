{
  "cells": [
    {
      "cell_type": "markdown",
      "metadata": {
        "colab_type": "text",
        "id": "view-in-github"
      },
      "source": [
        "<a href=\"https://colab.research.google.com/github/Harshitaahuja23/EverUp_Microcredential_DataAnalytics_Winter2022/blob/main/Python/Unit2_L6_Dictionaries.ipynb\" target=\"_parent\"><img src=\"https://colab.research.google.com/assets/colab-badge.svg\" alt=\"Open In Colab\"/></a>"
      ]
    },
    {
      "cell_type": "code",
      "execution_count": null,
      "metadata": {
        "id": "mp6ZrRpvyg_j"
      },
      "outputs": [],
      "source": [
        "full_name = {\"first_name\" : \"Harshita\", \"last_name\" : \"Ahuja\"}"
      ]
    },
    {
      "cell_type": "code",
      "execution_count": null,
      "metadata": {
        "colab": {
          "base_uri": "https://localhost:8080/"
        },
        "id": "Iy7_f1BJyh6t",
        "outputId": "be5c78a1-b5d7-4920-c28b-7899b688b567"
      },
      "outputs": [
        {
          "name": "stdout",
          "output_type": "stream",
          "text": [
            "Harshita\n",
            "Ahuja\n"
          ]
        }
      ],
      "source": [
        "print(full_name[\"first_name\"])\n",
        "print(full_name[\"last_name\"])"
      ]
    },
    {
      "cell_type": "code",
      "execution_count": null,
      "metadata": {
        "colab": {
          "base_uri": "https://localhost:8080/"
        },
        "id": "rRvGGtsYyjve",
        "outputId": "c7a5aebe-f1bb-415a-920c-5bb6e4a08c85"
      },
      "outputs": [
        {
          "name": "stdout",
          "output_type": "stream",
          "text": [
            "Hello, Harshita\n"
          ]
        }
      ],
      "source": [
        "print(\"Hello, \" + full_name[\"first_name\"])"
      ]
    },
    {
      "cell_type": "code",
      "execution_count": 2,
      "metadata": {
        "id": "YoiVJ330ylBz"
      },
      "outputs": [],
      "source": [
        "favorite_places = {\n",
        "    \"New York\" : \"Brooklyn Bridge\", \n",
        "    \"San Francisco\" : \"The Golden Gate Bridge\",\n",
        "    \"Vancouver\": \"Stanley Park\"\n",
        "}"
      ]
    },
    {
      "cell_type": "code",
      "execution_count": 4,
      "metadata": {
        "colab": {
          "base_uri": "https://localhost:8080/"
        },
        "id": "km5rs1k2ym2C",
        "outputId": "890617d8-e69b-4d78-ab14-fdf18584b43b"
      },
      "outputs": [
        {
          "name": "stdout",
          "output_type": "stream",
          "text": [
            "Stanley Park\n"
          ]
        }
      ],
      "source": [
        "print(favorite_places[\"Vancouver\"])"
      ]
    },
    {
      "cell_type": "code",
      "execution_count": null,
      "metadata": {
        "colab": {
          "base_uri": "https://localhost:8080/"
        },
        "id": "ZgNxNWn9yoKm",
        "outputId": "cef88cf1-8e15-4103-85a2-660f2edb9a2e"
      },
      "outputs": [
        {
          "name": "stdout",
          "output_type": "stream",
          "text": [
            "The Golden Gate Bridge\n"
          ]
        }
      ],
      "source": [
        "print(favorite_places[\"San Francisco\"])"
      ]
    },
    {
      "cell_type": "code",
      "execution_count": null,
      "metadata": {
        "id": "u7eQx1A-yptE"
      },
      "outputs": [],
      "source": [
        "#don't have to do nested dictionary"
      ]
    },
    {
      "cell_type": "code",
      "execution_count": null,
      "metadata": {
        "id": "v5lsE9Pxy-Gt"
      },
      "outputs": [],
      "source": []
    }
  ],
  "metadata": {
    "colab": {
      "authorship_tag": "ABX9TyMS6MktbRwDKQQ17al7EDNn",
      "include_colab_link": true,
      "name": "Unit2_L6_Dictionaries.ipynb",
      "provenance": []
    },
    "kernelspec": {
      "display_name": "Python 3",
      "name": "python3"
    },
    "language_info": {
      "codemirror_mode": {
        "name": "ipython",
        "version": 3
      },
      "file_extension": ".py",
      "mimetype": "text/x-python",
      "name": "python",
      "nbconvert_exporter": "python",
      "pygments_lexer": "ipython3",
      "version": "3.9.6"
    }
  },
  "nbformat": 4,
  "nbformat_minor": 0
}
