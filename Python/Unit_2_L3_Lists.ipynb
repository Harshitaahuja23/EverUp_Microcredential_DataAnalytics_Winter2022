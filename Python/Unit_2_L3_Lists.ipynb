{
  "nbformat": 4,
  "nbformat_minor": 0,
  "metadata": {
    "colab": {
      "name": "Unit 2_L3_Lists",
      "provenance": [],
      "collapsed_sections": [],
      "authorship_tag": "ABX9TyNg/89sdJwl3WKHnibF3FfG",
      "include_colab_link": true
    },
    "kernelspec": {
      "name": "python3",
      "display_name": "Python 3"
    },
    "language_info": {
      "name": "python"
    }
  },
  "cells": [
    {
      "cell_type": "markdown",
      "metadata": {
        "id": "view-in-github",
        "colab_type": "text"
      },
      "source": [
        "<a href=\"https://colab.research.google.com/github/Harshitaahuja23/EverUp_Microcredential_DataAnalytics_Winter2022/blob/main/Python/Unit_2_L3_Lists.ipynb\" target=\"_parent\"><img src=\"https://colab.research.google.com/assets/colab-badge.svg\" alt=\"Open In Colab\"/></a>"
      ]
    },
    {
      "cell_type": "code",
      "execution_count": null,
      "metadata": {
        "colab": {
          "base_uri": "https://localhost:8080/"
        },
        "id": "ZMnbcfiaKUw6",
        "outputId": "cfc1c714-5936-4234-de2f-4b4fceca2ed2"
      },
      "outputs": [
        {
          "output_type": "stream",
          "name": "stdout",
          "text": [
            "['Stranger things', 'Criminal minds', 'Big Bang theory', 'Money Heist', 'Breaking bad']\n"
          ]
        }
      ],
      "source": [
        "favorite_tvshows = [\"Stranger things\", \"Criminal minds\", \"Big Bang theory\",\"Money Heist\", \"Breaking bad\"] # list of my favorite tv shows\n",
        "print(favorite_tvshows)"
      ]
    },
    {
      "cell_type": "code",
      "source": [
        "print(sorted(favorite_tvshows)) # sorting them temporarily in alphabetical order"
      ],
      "metadata": {
        "colab": {
          "base_uri": "https://localhost:8080/"
        },
        "id": "Z2zE-wvbLS6k",
        "outputId": "19ab0f4f-61b3-4c78-ae31-f42281191ca0"
      },
      "execution_count": null,
      "outputs": [
        {
          "output_type": "stream",
          "name": "stdout",
          "text": [
            "['Big Bang theory', 'Breaking bad', 'Criminal minds', 'Money Heist', 'Stranger things']\n"
          ]
        }
      ]
    },
    {
      "cell_type": "markdown",
      "source": [
        "Q3: \n",
        "Sorted() function is different from sort() function because the former sorts the list temporarily, whereas the latter does so permanently. "
      ],
      "metadata": {
        "id": "K8oWEGQ-LhK-"
      }
    },
    {
      "cell_type": "code",
      "source": [
        "print((favorite_tvshows)) # printing original list"
      ],
      "metadata": {
        "colab": {
          "base_uri": "https://localhost:8080/"
        },
        "id": "WEd5npNkMCi9",
        "outputId": "5df3df74-332c-41d6-d2e6-55f720d7bd0b"
      },
      "execution_count": null,
      "outputs": [
        {
          "output_type": "stream",
          "name": "stdout",
          "text": [
            "['Stranger things', 'Criminal minds', 'Big Bang theory', 'Money Heist', 'Breaking bad']\n"
          ]
        }
      ]
    },
    {
      "cell_type": "code",
      "source": [
        "favorite_tvshows.sort(reverse= True) # sorting them in reverse alphabetical order\n",
        "print(favorite_tvshows)"
      ],
      "metadata": {
        "colab": {
          "base_uri": "https://localhost:8080/"
        },
        "id": "Nr0rh1ZvMbxg",
        "outputId": "d6f63f6d-7032-43cb-d7e5-9a0aab3428e2"
      },
      "execution_count": null,
      "outputs": [
        {
          "output_type": "stream",
          "name": "stdout",
          "text": [
            "['Stranger things', 'Money Heist', 'Criminal minds', 'Breaking bad', 'Big Bang theory']\n"
          ]
        }
      ]
    },
    {
      "cell_type": "code",
      "source": [
        "len(favorite_tvshows) # length of my favorite tv shows using the len() function"
      ],
      "metadata": {
        "colab": {
          "base_uri": "https://localhost:8080/"
        },
        "id": "FJhr0p6MM_Dn",
        "outputId": "0eb82b05-6876-4b1a-edfc-7970190424f4"
      },
      "execution_count": null,
      "outputs": [
        {
          "output_type": "execute_result",
          "data": {
            "text/plain": [
              "5"
            ]
          },
          "metadata": {},
          "execution_count": 8
        }
      ]
    }
  ]
}