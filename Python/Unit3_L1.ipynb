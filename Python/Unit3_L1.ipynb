{
  "nbformat": 4,
  "nbformat_minor": 0,
  "metadata": {
    "colab": {
      "name": "Unit3_L1.ipynb",
      "provenance": [],
      "authorship_tag": "ABX9TyPVRgeUzlGvEuVtSqVA2Owt",
      "include_colab_link": true
    },
    "kernelspec": {
      "name": "python3",
      "display_name": "Python 3"
    },
    "language_info": {
      "name": "python"
    }
  },
  "cells": [
    {
      "cell_type": "markdown",
      "metadata": {
        "id": "view-in-github",
        "colab_type": "text"
      },
      "source": [
        "<a href=\"https://colab.research.google.com/github/Harshitaahuja23/EverUp_Microcredential_DataAnalytics_Winter2022/blob/main/Python/Unit3_L1.ipynb\" target=\"_parent\"><img src=\"https://colab.research.google.com/assets/colab-badge.svg\" alt=\"Open In Colab\"/></a>"
      ]
    },
    {
      "cell_type": "markdown",
      "source": [
        "Unit 3 L1 NumPy "
      ],
      "metadata": {
        "id": "Qixf5gnx3SDm"
      }
    },
    {
      "cell_type": "code",
      "execution_count": null,
      "metadata": {
        "id": "bPkqZaQC3KnW"
      },
      "outputs": [],
      "source": [
        "import numpy as np\n",
        "np_olympic_country = np.array(['GBR','China','RUS','US','KOR','JPN','GER'])\n",
        "np_olympic_country_Gold = np.array([29,38,24,46,13,7,11])\n",
        "np_olympic_country_Silver = np.array([17,28,25,28,8,14,11])\n",
        "np_olympic_country_Bronze = np.array([19,22,32,29,7,17,14])"
      ]
    },
    {
      "cell_type": "code",
      "source": [
        "max = np.where(np_olympic_country_Gold == np.max(np_olympic_country_Gold))\n",
        "print(\"Max number of gold medals is\", np.max(np_olympic_country_Gold))\n",
        "print(\"country with maximum gold medals is:\", max[0])"
      ],
      "metadata": {
        "colab": {
          "base_uri": "https://localhost:8080/"
        },
        "id": "UIngCtSV3M21",
        "outputId": "a630afa7-8793-402d-bc55-3b9f70c4d833"
      },
      "execution_count": null,
      "outputs": [
        {
          "output_type": "stream",
          "name": "stdout",
          "text": [
            "Max number of gold medals is 46\n",
            "country with maximum gold medals is: [3]\n"
          ]
        }
      ]
    },
    {
      "cell_type": "code",
      "source": [
        "min = np.where(np_olympic_country_Gold == np.min(np_olympic_country_Gold))\n",
        "print(\"Min number of gold medals is\", np.min(np_olympic_country_Gold))\n",
        "print(\"country with minimum gold medals is:\", min[0])"
      ],
      "metadata": {
        "colab": {
          "base_uri": "https://localhost:8080/"
        },
        "id": "Rmd0kyV43OdQ",
        "outputId": "fbf13653-887d-4d54-db0b-b17edf395cd1"
      },
      "execution_count": null,
      "outputs": [
        {
          "output_type": "stream",
          "name": "stdout",
          "text": [
            "Min number of gold medals is 7\n",
            "country with minimum gold medals is: [5]\n"
          ]
        }
      ]
    },
    {
      "cell_type": "code",
      "source": [
        "more_than_20_gold_medals=np_olympic_country_Gold >20\n",
        "np_olympic_country_Gold[more_than_20_gold_medals]\n",
        "new_variable = np.where(np_olympic_country_Gold >20)\n",
        "print('Countries with more than 20 medals are:',np_olympic_country[new_variable])"
      ],
      "metadata": {
        "colab": {
          "base_uri": "https://localhost:8080/"
        },
        "id": "9CHs5tMd3P5P",
        "outputId": "e7d73d26-6343-4939-e40c-3a69f2c08492"
      },
      "execution_count": null,
      "outputs": [
        {
          "output_type": "stream",
          "name": "stdout",
          "text": [
            "Countries with more than 20 medals are: ['GBR' 'China' 'RUS' 'US']\n"
          ]
        }
      ]
    },
    {
      "cell_type": "code",
      "source": [
        ""
      ],
      "metadata": {
        "id": "AwZRKopi3QlR"
      },
      "execution_count": null,
      "outputs": []
    }
  ]
}