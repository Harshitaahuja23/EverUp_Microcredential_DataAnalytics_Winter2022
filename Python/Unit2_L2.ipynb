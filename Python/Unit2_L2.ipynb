{
  "nbformat": 4,
  "nbformat_minor": 0,
  "metadata": {
    "colab": {
      "name": "Unit2_L2",
      "provenance": [],
      "collapsed_sections": [],
      "authorship_tag": "ABX9TyNNmKEBXR5XARmAum2SY1w9",
      "include_colab_link": true
    },
    "kernelspec": {
      "name": "python3",
      "display_name": "Python 3"
    },
    "language_info": {
      "name": "python"
    }
  },
  "cells": [
    {
      "cell_type": "markdown",
      "metadata": {
        "id": "view-in-github",
        "colab_type": "text"
      },
      "source": [
        "<a href=\"https://colab.research.google.com/github/Harshitaahuja23/EverUp_Microcredential_DataAnalytics_Winter2022/blob/main/Python/Unit2_L2.ipynb\" target=\"_parent\"><img src=\"https://colab.research.google.com/assets/colab-badge.svg\" alt=\"Open In Colab\"/></a>"
      ]
    },
    {
      "cell_type": "markdown",
      "source": [
        "Q1: Python is an object-oriented programming, dynamic and interactive language. It is useful because it contains libraries to perform data analysis and visualizations along with dashboards in a business or organization."
      ],
      "metadata": {
        "id": "ZYuCHe9UNnCF"
      }
    },
    {
      "cell_type": "markdown",
      "source": [
        "Q2:\n",
        "a. 1_message - This is not allowed since one cannot start with a number in a variable\n",
        "\n",
        "b. Greeting_message - This is allowed since the variable starts with a letter and contains an underscore\n",
        "\n",
        "c. Message_1 - This is allowed since the variable starts with a letter and number is allowed as long as it is not in the beginning; also contains an underscore\n",
        "\n",
        "d. First name - Not allowed because there is an empty space between the two words; this can be fixed by adding an underscore\n",
        "\n",
        "e. Full_name - Allowed since it follows the above-mentioned rules, containing an underscore between the two words"
      ],
      "metadata": {
        "id": "PDOm3b-FOKJV"
      }
    },
    {
      "cell_type": "code",
      "source": [
        "greeting = \"hello there!\" #create a variable that holds the string \"hello there!\"\n",
        "print(greeting)"
      ],
      "metadata": {
        "colab": {
          "base_uri": "https://localhost:8080/"
        },
        "id": "VP4vg_89O6o2",
        "outputId": "a384f654-04fd-44d2-84b1-e0ce7fe05d71"
      },
      "execution_count": null,
      "outputs": [
        {
          "output_type": "stream",
          "name": "stdout",
          "text": [
            "hello there!\n"
          ]
        }
      ]
    },
    {
      "cell_type": "code",
      "source": [
        "first_name = \"Harshita\"\n",
        "last_name = \"Ahuja\" \n",
        "email_extension = \"@gmail.com\"\n",
        "email_address = first_name + last_name + email_extension\n",
        "print(email_address)\n"
      ],
      "metadata": {
        "colab": {
          "base_uri": "https://localhost:8080/"
        },
        "id": "g7F1mOGiPBsB",
        "outputId": "eca9bb2e-6f4d-45ca-89cb-8954fe554e3a"
      },
      "execution_count": null,
      "outputs": [
        {
          "output_type": "stream",
          "name": "stdout",
          "text": [
            "HarshitaAhuja@gmail.com\n"
          ]
        }
      ]
    },
    {
      "cell_type": "code",
      "source": [
        "name = \"Samantha\" \n",
        "print(name.upper())\n",
        "print(name.lower())"
      ],
      "metadata": {
        "colab": {
          "base_uri": "https://localhost:8080/"
        },
        "id": "rL7EeIJCPvFQ",
        "outputId": "9a342fb0-0c6c-487f-b4c1-768a82337e7d"
      },
      "execution_count": null,
      "outputs": [
        {
          "output_type": "stream",
          "name": "stdout",
          "text": [
            "SAMANTHA\n",
            "samantha\n"
          ]
        }
      ]
    },
    {
      "cell_type": "code",
      "source": [
        "hangout = \"Do you want to hang out on the \" + str(15) + \"th of this month?\"\n",
        "print(hangout)"
      ],
      "metadata": {
        "colab": {
          "base_uri": "https://localhost:8080/"
        },
        "id": "S-vLZKFuP9TC",
        "outputId": "f200ae0e-e4d0-4a04-d8e9-c0bb38d55387"
      },
      "execution_count": null,
      "outputs": [
        {
          "output_type": "stream",
          "name": "stdout",
          "text": [
            "Do you want to hang out on the 15th of this month?\n"
          ]
        }
      ]
    }
  ]
}