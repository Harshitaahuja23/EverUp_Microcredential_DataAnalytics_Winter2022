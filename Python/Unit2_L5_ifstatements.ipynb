{
  "nbformat": 4,
  "nbformat_minor": 0,
  "metadata": {
    "colab": {
      "name": "Unit2_L5_ifstatements.ipynb",
      "provenance": [],
      "authorship_tag": "ABX9TyN38480MfLJXnH6KcRZdlGd",
      "include_colab_link": true
    },
    "kernelspec": {
      "name": "python3",
      "display_name": "Python 3"
    },
    "language_info": {
      "name": "python"
    }
  },
  "cells": [
    {
      "cell_type": "markdown",
      "metadata": {
        "id": "view-in-github",
        "colab_type": "text"
      },
      "source": [
        "<a href=\"https://colab.research.google.com/github/Harshitaahuja23/EverUp_Microcredential_DataAnalytics_Winter2022/blob/main/Python/Unit2_L5_ifstatements.ipynb\" target=\"_parent\"><img src=\"https://colab.research.google.com/assets/colab-badge.svg\" alt=\"Open In Colab\"/></a>"
      ]
    },
    {
      "cell_type": "code",
      "execution_count": 2,
      "metadata": {
        "colab": {
          "base_uri": "https://localhost:8080/"
        },
        "id": "JbQ2hSCNpECw",
        "outputId": "9998f31b-db5d-4e98-e976-c3d9aba84947"
      },
      "outputs": [
        {
          "output_type": "stream",
          "name": "stdout",
          "text": [
            "Welcome to the page!\n",
            "Welcome to the page!\n",
            "Welcome to the page!\n",
            "Welcome to the page! You may navigate and check out the links below to learn more!\n",
            "Welcome to the page!\n"
          ]
        }
      ],
      "source": [
        "usernames = [\"john16\",\"samantha5\", \"daverogers\", \"admin\", \"verajoe\"]\n",
        "for users in usernames:\n",
        "  if users == \"admin\":\n",
        "    print(\"Welcome to the page! You may navigate and check out the links below to learn more!\")\n",
        "  else:\n",
        "    print(\"Welcome to the page!\")"
      ]
    },
    {
      "cell_type": "code",
      "source": [
        "numbers = list(range(1,11))\n",
        "for num in numbers: \n",
        "  if num == 1:\n",
        "    print(\"1st\")\n",
        "  elif num == 2:\n",
        "    print(\"2nd\")\n",
        "  elif num == 3:\n",
        "    print(\"3rd\")\n",
        "  else: \n",
        "    print(str(num) + \"th\")"
      ],
      "metadata": {
        "colab": {
          "base_uri": "https://localhost:8080/"
        },
        "id": "ytFx9xySVu9p",
        "outputId": "b7ce0136-aa95-4c88-a148-237a64397352"
      },
      "execution_count": 15,
      "outputs": [
        {
          "output_type": "stream",
          "name": "stdout",
          "text": [
            "1st\n",
            "2nd\n",
            "3rd\n",
            "4th\n",
            "5th\n",
            "6th\n",
            "7th\n",
            "8th\n",
            "9th\n",
            "10th\n"
          ]
        }
      ]
    }
  ]
}