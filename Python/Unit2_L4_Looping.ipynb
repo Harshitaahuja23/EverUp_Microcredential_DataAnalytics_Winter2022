{
  "nbformat": 4,
  "nbformat_minor": 0,
  "metadata": {
    "colab": {
      "name": "Unit2_L4_Looping.ipynb",
      "provenance": [],
      "collapsed_sections": [],
      "authorship_tag": "ABX9TyPDzgK1kJpQcmbCBv6MQ4X/",
      "include_colab_link": true
    },
    "kernelspec": {
      "name": "python3",
      "display_name": "Python 3"
    },
    "language_info": {
      "name": "python"
    }
  },
  "cells": [
    {
      "cell_type": "markdown",
      "metadata": {
        "id": "view-in-github",
        "colab_type": "text"
      },
      "source": [
        "<a href=\"https://colab.research.google.com/github/Harshitaahuja23/EverUp_Microcredential_DataAnalytics_Winter2022/blob/main/Python/Unit2_L4_Looping.ipynb\" target=\"_parent\"><img src=\"https://colab.research.google.com/assets/colab-badge.svg\" alt=\"Open In Colab\"/></a>"
      ]
    },
    {
      "cell_type": "code",
      "execution_count": 1,
      "metadata": {
        "colab": {
          "base_uri": "https://localhost:8080/"
        },
        "id": "Gcbx0DmxC-Ap",
        "outputId": "c61c9ba9-ee00-4f5b-895c-d5acd9c11dff"
      },
      "outputs": [
        {
          "output_type": "stream",
          "name": "stdout",
          "text": [
            "reading\n",
            "writing\n",
            "biking\n",
            "working out\n",
            "drawing\n"
          ]
        }
      ],
      "source": [
        "hobbies = [\"reading\", \"writing\", \"biking\", \"working out\", \"drawing\"]\n",
        "for x in hobbies: \n",
        "  print(x)"
      ]
    },
    {
      "cell_type": "code",
      "source": [
        "hobbies = [\"reading\", \"writing\", \"biking\", \"working out\", \"drawing\"] # modifying the loop to add a message\n",
        "for x in hobbies: \n",
        "  print(x + \" is one of my hobbies.\")"
      ],
      "metadata": {
        "colab": {
          "base_uri": "https://localhost:8080/"
        },
        "id": "0YV5RDHrDhbO",
        "outputId": "3a30c923-6c4c-41bc-f4f9-ac1c9d68633a"
      },
      "execution_count": 2,
      "outputs": [
        {
          "output_type": "stream",
          "name": "stdout",
          "text": [
            "reading is one of my hobbies.\n",
            "writing is one of my hobbies.\n",
            "biking is one of my hobbies.\n",
            "working out is one of my hobbies.\n",
            "drawing is one of my hobbies.\n"
          ]
        }
      ]
    },
    {
      "cell_type": "code",
      "source": [
        "for num in range(0,20,2):\n",
        "  print(num) # to print even numbers from 1-20 "
      ],
      "metadata": {
        "colab": {
          "base_uri": "https://localhost:8080/"
        },
        "id": "D6YmlOvyD1Mi",
        "outputId": "0d2b1879-917c-40f2-f418-a2a5383ff11e"
      },
      "execution_count": 10,
      "outputs": [
        {
          "output_type": "stream",
          "name": "stdout",
          "text": [
            "0\n",
            "2\n",
            "4\n",
            "6\n",
            "8\n",
            "10\n",
            "12\n",
            "14\n",
            "16\n",
            "18\n"
          ]
        }
      ]
    },
    {
      "cell_type": "code",
      "source": [
        "hobbies = [\"reading\", \"writing\", \"biking\", \"working out\", \"drawing\"] # sorting in alphabetical order \n",
        "hobbies.sort()\n",
        "print(hobbies)"
      ],
      "metadata": {
        "colab": {
          "base_uri": "https://localhost:8080/"
        },
        "id": "LMeZ9gErFrrR",
        "outputId": "ac4369aa-642c-4d6e-f293-ae8591864621"
      },
      "execution_count": 13,
      "outputs": [
        {
          "output_type": "stream",
          "name": "stdout",
          "text": [
            "['biking', 'drawing', 'reading', 'working out', 'writing']\n"
          ]
        }
      ]
    },
    {
      "cell_type": "code",
      "source": [
        "hobbies = [\"reading\", \"writing\", \"biking\", \"working out\", \"drawing\"] \n",
        "print(hobbies[0:3]) # printing first three elements of the list"
      ],
      "metadata": {
        "colab": {
          "base_uri": "https://localhost:8080/"
        },
        "id": "7Fwk6_AlHerN",
        "outputId": "5fcd51e6-8501-46ec-b894-c12072398fff"
      },
      "execution_count": 19,
      "outputs": [
        {
          "output_type": "stream",
          "name": "stdout",
          "text": [
            "['reading', 'writing', 'biking']\n"
          ]
        }
      ]
    },
    {
      "cell_type": "code",
      "source": [
        "hobbies = [\"reading\", \"writing\", \"biking\", \"working out\", \"drawing\"] \n",
        "for x in hobbies[-2:]: # printing out the last two elements of the list using for loop\n",
        "  print(x)"
      ],
      "metadata": {
        "colab": {
          "base_uri": "https://localhost:8080/"
        },
        "id": "lXj8jNcEH_kj",
        "outputId": "87aaf764-0008-4397-d4d0-94af0d9991c4"
      },
      "execution_count": 29,
      "outputs": [
        {
          "output_type": "stream",
          "name": "stdout",
          "text": [
            "working out\n",
            "drawing\n"
          ]
        }
      ]
    }
  ]
}