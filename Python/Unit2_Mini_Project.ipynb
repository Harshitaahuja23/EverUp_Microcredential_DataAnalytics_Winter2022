{
  "nbformat": 4,
  "nbformat_minor": 0,
  "metadata": {
    "colab": {
      "name": "Unit2_Mini_Project.ipynb",
      "provenance": [],
      "collapsed_sections": [],
      "authorship_tag": "ABX9TyODqdjjtzHLFxR5rf3ME3VF",
      "include_colab_link": true
    },
    "kernelspec": {
      "name": "python3",
      "display_name": "Python 3"
    },
    "language_info": {
      "name": "python"
    }
  },
  "cells": [
    {
      "cell_type": "markdown",
      "metadata": {
        "id": "view-in-github",
        "colab_type": "text"
      },
      "source": [
        "<a href=\"https://colab.research.google.com/github/Harshitaahuja23/EverUp_Microcredential_DataAnalytics_Winter2022/blob/main/Python/Unit2_Mini_Project.ipynb\" target=\"_parent\"><img src=\"https://colab.research.google.com/assets/colab-badge.svg\" alt=\"Open In Colab\"/></a>"
      ]
    },
    {
      "cell_type": "markdown",
      "source": [
        "Unit 2 Mini Project - Harshita Ahuja "
      ],
      "metadata": {
        "id": "lomoF6lIDbsk"
      }
    },
    {
      "cell_type": "code",
      "execution_count": null,
      "metadata": {
        "id": "8VErX4f7DVk5"
      },
      "outputs": [],
      "source": [
        "# Ask the user for a number. \n",
        "# Depending on whether the number is even or odd, print out an appropriate message to the user.\n",
        "# Hint: how does an even / odd number react differently when divided by 2?"
      ]
    },
    {
      "cell_type": "code",
      "source": [
        "number = int(input(\"Type a number: \")) \n",
        "if (number % 2) == 0: \n",
        "  print(str(number) + \" is an even number\")\n",
        "else:\n",
        "  print(str(number) + \" is an odd number\")"
      ],
      "metadata": {
        "colab": {
          "base_uri": "https://localhost:8080/"
        },
        "id": "Y_vz8BCoDi7E",
        "outputId": "ca72c7ad-1a71-4a4d-e630-5e0212a29068"
      },
      "execution_count": null,
      "outputs": [
        {
          "output_type": "stream",
          "name": "stdout",
          "text": [
            "Type a number: 4\n",
            "4 is an even number\n"
          ]
        }
      ]
    },
    {
      "cell_type": "code",
      "source": [
        "# now I will type in an odd number to see a different result\n",
        "\n",
        "number = int(input(\"Type a number: \")) \n",
        "if (number % 2) == 0: \n",
        "  print(str(number) + \" is an even number\")\n",
        "else:\n",
        "  print(str(number) + \" is an odd number\")"
      ],
      "metadata": {
        "colab": {
          "base_uri": "https://localhost:8080/"
        },
        "id": "Pyu8pAfeFCOY",
        "outputId": "a28cf16e-e455-4e75-e0d7-68a0ece00863"
      },
      "execution_count": null,
      "outputs": [
        {
          "output_type": "stream",
          "name": "stdout",
          "text": [
            "Type a number: 3\n",
            "3 is an odd number\n"
          ]
        }
      ]
    },
    {
      "cell_type": "code",
      "source": [
        "# in above result, since 3/2 does not result in a 0 remainder, it rejects the if statement "
      ],
      "metadata": {
        "id": "J9PZNgloG5ZN"
      },
      "execution_count": null,
      "outputs": []
    },
    {
      "cell_type": "code",
      "source": [
        "# Bonus question 1\n",
        "num = int(input(\"Type in a number \"))\n",
        "if (num % 4 == 0):\n",
        "  print(str(num) + \" is a multiple of 4\")\n",
        "else: \n",
        "  print(str(num) + \" is not a multiple of 4\")"
      ],
      "metadata": {
        "colab": {
          "base_uri": "https://localhost:8080/"
        },
        "id": "O2oAu9AGHKN9",
        "outputId": "6db84b7f-c3b4-4e04-d7c5-83efa62603f8"
      },
      "execution_count": null,
      "outputs": [
        {
          "output_type": "stream",
          "name": "stdout",
          "text": [
            "Type in a number 16\n",
            "16 is a multiple of 4\n"
          ]
        }
      ]
    },
    {
      "cell_type": "code",
      "source": [
        "# Bonus question 2\n",
        "num = int(input(\"Type in a number to check \"))\n",
        "check = int(input(\"Type in a number to divide \"))\n",
        "if (check % num) == 0: \n",
        "  print(str(check) + \" divides evenly\")\n",
        "else: \n",
        "  print(\"Invalid\")"
      ],
      "metadata": {
        "colab": {
          "base_uri": "https://localhost:8080/"
        },
        "id": "a0aGaPWdIOeJ",
        "outputId": "34d537b5-0119-44b7-bde8-2354734061ee"
      },
      "execution_count": null,
      "outputs": [
        {
          "output_type": "stream",
          "name": "stdout",
          "text": [
            "Type in a number to check 5\n",
            "Type in a number to divide 20\n",
            "20 divides evenly\n"
          ]
        }
      ]
    },
    {
      "cell_type": "code",
      "source": [
        ""
      ],
      "metadata": {
        "id": "VjqdbUUVJHBs"
      },
      "execution_count": null,
      "outputs": []
    }
  ]
}
